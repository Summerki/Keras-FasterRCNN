{
 "cells": [
  {
   "cell_type": "code",
   "execution_count": 1,
   "metadata": {},
   "outputs": [
    {
     "name": "stderr",
     "output_type": "stream",
     "text": [
      "Using TensorFlow backend.\n"
     ]
    }
   ],
   "source": [
    "from keras.models import Model\n",
    "from keras.layers import Lambda,Activation,Dense,Conv2D,Input,BatchNormalization,MaxPool2D,Flatten\n",
    "import keras.backend as K\n",
    "import numpy as np"
   ]
  },
  {
   "cell_type": "code",
   "execution_count": 7,
   "metadata": {},
   "outputs": [],
   "source": [
    "input_tensor_1 = Input([32,32,3])  # keras里面的Input是定义shape，并不是真正的input\n",
    "input_tensor_2 = Input([4,])\n",
    "input_target = Input([2,])"
   ]
  },
  {
   "cell_type": "code",
   "execution_count": null,
   "metadata": {},
   "outputs": [],
   "source": [
    "# loss计算函数\n",
    "def cus_loss1(y_true,y_pred):\n",
    "    return K.mean(K.abs(y_true-y_pred))\n",
    "def cus_loss2(y_true,y_pred):\n",
    "    return K.mean(K.abs(y_true-y_pred))"
   ]
  },
  {
   "cell_type": "code",
   "execution_count": 3,
   "metadata": {},
   "outputs": [
    {
     "name": "stdout",
     "output_type": "stream",
     "text": [
      "WARNING:tensorflow:From D:\\1-Anaconda\\AnacondaInstall\\lib\\site-packages\\tensorflow\\python\\framework\\op_def_library.py:263: colocate_with (from tensorflow.python.framework.ops) is deprecated and will be removed in a future version.\n",
      "Instructions for updating:\n",
      "Colocations handled automatically by placer.\n"
     ]
    }
   ],
   "source": [
    "# 网络结构\n",
    "# 第一组\n",
    "x = BatchNormalization(axis=1)(input_tensor_1)  # 可以加name属性\n",
    "\n",
    "x = Conv2D(filters=32, kernel_size=(3,3), padding='same')(x)\n",
    "x = Activation('relu')(x)\n",
    "x = MaxPool2D(pool_size=(2,2))(x)\n",
    "\n",
    "x = Conv2D(filters=32, kernel_size=(3,3), padding='same')(x)\n",
    "x = Activation('relu')(x)\n",
    "x = MaxPool2D(pool_size=(2,2))(x)\n",
    "\n",
    "x = Flatten()(x)\n",
    "x = Dense(units=16)(x)\n",
    "out2 = Dense(units=2)(x)\n",
    "\n",
    "# 第二组\n",
    "y = Dense(units=32)(input_tensor_2)\n",
    "out1 = Dense(units=2)(y)\n",
    "\n",
    "# 第三组\n",
    "z = Dense(units=8)(input_target)\n",
    "out3 = Dense(units=2)(z)\n",
    "\n",
    "\n",
    "# 自定义一个loss\n",
    "loss1 = Lambda(lambda x:cus_loss1(*x))([out2,out1])   # Lambda是自定义层\n",
    "                                                    # *x代表传入的是一个列表\n",
    "loss2 = Lambda(lambda x:cus_loss2(*x))([out3,out2])"
   ]
  },
  {
   "cell_type": "code",
   "execution_count": 4,
   "metadata": {},
   "outputs": [
    {
     "name": "stderr",
     "output_type": "stream",
     "text": [
      "D:\\1-Anaconda\\AnacondaInstall\\lib\\site-packages\\ipykernel_launcher.py:1: UserWarning: Update your `Model` call to the Keras 2 API: `Model(inputs=[<tf.Tenso..., outputs=[<tf.Tenso...)`\n",
      "  \"\"\"Entry point for launching an IPython kernel.\n"
     ]
    }
   ],
   "source": [
    "model = Model(input=[input_tensor_1,input_tensor_2,input_target], output=[out1,out2,out3])"
   ]
  },
  {
   "cell_type": "code",
   "execution_count": 5,
   "metadata": {},
   "outputs": [],
   "source": [
    "# 画出model\n",
    "from keras.utils.vis_utils import plot_model\n",
    "plot_model(model=model, to_file='model_plain.png', show_shapes=True)"
   ]
  },
  {
   "cell_type": "code",
   "execution_count": null,
   "metadata": {},
   "outputs": [],
   "source": []
  },
  {
   "cell_type": "code",
   "execution_count": null,
   "metadata": {},
   "outputs": [],
   "source": []
  }
 ],
 "metadata": {
  "kernelspec": {
   "display_name": "Python 3",
   "language": "python",
   "name": "python3"
  },
  "language_info": {
   "codemirror_mode": {
    "name": "ipython",
    "version": 3
   },
   "file_extension": ".py",
   "mimetype": "text/x-python",
   "name": "python",
   "nbconvert_exporter": "python",
   "pygments_lexer": "ipython3",
   "version": "3.7.3"
  }
 },
 "nbformat": 4,
 "nbformat_minor": 2
}
