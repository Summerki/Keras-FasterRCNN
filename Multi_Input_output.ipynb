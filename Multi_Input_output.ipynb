{
 "cells": [
  {
   "cell_type": "code",
   "execution_count": 16,
   "metadata": {},
   "outputs": [],
   "source": [
    "from keras.models import Model\n",
    "from keras.layers import Lambda,Activation,Dense,Conv2D,Input,BatchNormalization,MaxPool2D,Flatten\n",
    "import keras.backend as K\n",
    "import numpy as np"
   ]
  },
  {
   "cell_type": "code",
   "execution_count": 17,
   "metadata": {},
   "outputs": [],
   "source": [
    "input_tensor_1 = Input([32,32,3])  # keras里面的Input是定义shape，并不是真正的input\n",
    "input_tensor_2 = Input([4,])\n",
    "input_target = Input([2,])"
   ]
  },
  {
   "cell_type": "code",
   "execution_count": 18,
   "metadata": {},
   "outputs": [],
   "source": [
    "# loss计算函数\n",
    "def cus_loss1(y_true,y_pred):\n",
    "    return K.mean(K.abs(y_true-y_pred))\n",
    "def cus_loss2(y_true,y_pred):\n",
    "    return K.mean(K.abs(y_true-y_pred))"
   ]
  },
  {
   "cell_type": "code",
   "execution_count": 19,
   "metadata": {},
   "outputs": [],
   "source": [
    "# 网络结构\n",
    "# 第一组\n",
    "x = BatchNormalization(axis=1)(input_tensor_1)  # 可以加name属性\n",
    "\n",
    "x = Conv2D(filters=32, kernel_size=(3,3), padding='same')(x)\n",
    "x = Activation('relu')(x)\n",
    "x = MaxPool2D(pool_size=(2,2))(x)\n",
    "\n",
    "x = Conv2D(filters=32, kernel_size=(3,3), padding='same')(x)\n",
    "x = Activation('relu')(x)\n",
    "x = MaxPool2D(pool_size=(2,2))(x)\n",
    "\n",
    "x = Flatten()(x)\n",
    "x = Dense(units=16)(x)\n",
    "out2 = Dense(units=2)(x)\n",
    "\n",
    "# 第二组\n",
    "y = Dense(units=32)(input_tensor_2)\n",
    "out1 = Dense(units=2)(y)\n",
    "\n",
    "# 第三组\n",
    "z = Dense(units=8)(input_target)\n",
    "out3 = Dense(units=2)(z)\n",
    "\n",
    "\n",
    "# 自定义一个loss\n",
    "loss1 = Lambda(lambda x:cus_loss1(*x),name='loss1')([out2,out1])   # Lambda是自定义层\n",
    "                                                    # *x代表传入的是一个列表\n",
    "loss2 = Lambda(lambda x:cus_loss2(*x),name='loss2')([out3,out2])"
   ]
  },
  {
   "cell_type": "code",
   "execution_count": 20,
   "metadata": {},
   "outputs": [
    {
     "name": "stderr",
     "output_type": "stream",
     "text": [
      "D:\\1-Anaconda\\AnacondaInstall\\lib\\site-packages\\ipykernel_launcher.py:1: UserWarning: Update your `Model` call to the Keras 2 API: `Model(inputs=[<tf.Tenso..., outputs=[<tf.Tenso...)`\n",
      "  \"\"\"Entry point for launching an IPython kernel.\n"
     ]
    }
   ],
   "source": [
    "model = Model(input=[input_tensor_1,input_tensor_2,input_target], output=[out1,out2,out3,loss1,loss2])"
   ]
  },
  {
   "cell_type": "code",
   "execution_count": 21,
   "metadata": {},
   "outputs": [],
   "source": [
    "# # 画出model\n",
    "# from keras.utils.vis_utils import plot_model\n",
    "# plot_model(model=model, to_file='model_plain_loss.png', show_shapes=True)"
   ]
  },
  {
   "cell_type": "code",
   "execution_count": 22,
   "metadata": {},
   "outputs": [],
   "source": [
    "# 获取loss\n",
    "loss_layer1 = model.get_layer('loss1').output\n",
    "loss_layer2 = model.get_layer('loss2').output\n",
    "\n",
    "# 向模型添加loss\n",
    "model.add_loss(loss_layer1)\n",
    "model.add_loss(loss_layer2)"
   ]
  },
  {
   "cell_type": "code",
   "execution_count": 23,
   "metadata": {},
   "outputs": [],
   "source": [
    "# loss + None 表示不需要梯度返回，有多少个out就有多少个none\n",
    "model.compile(optimizer='sgd',loss=[None,None,None,None,None])"
   ]
  },
  {
   "cell_type": "code",
   "execution_count": 29,
   "metadata": {},
   "outputs": [],
   "source": [
    "# dataset\n",
    "def data_gen(number):\n",
    "    for i in range(number):\n",
    "        yield [np.random.normal(1,1,size=(1,32,32,3)),np.random.normal(1,1,size=(1,4)),np.random.normal(1,1,size=(1,2))],[]\n",
    "dataset = data_gen(1000)"
   ]
  },
  {
   "cell_type": "code",
   "execution_count": 30,
   "metadata": {},
   "outputs": [
    {
     "data": {
      "text/plain": [
       "([array([[[[ 2.63954217, -0.3445296 ,  0.96035656],\n",
       "           [ 0.97955626,  2.64003951,  0.60231907],\n",
       "           [ 0.6131107 ,  1.42697695,  0.20306063],\n",
       "           ...,\n",
       "           [ 1.39460354, -0.77776338,  0.66113531],\n",
       "           [-0.07946318, -0.03178072,  0.59098456],\n",
       "           [ 1.57143944,  1.17905077,  1.87900025]],\n",
       "  \n",
       "          [[-0.70533258,  0.81045542,  1.76881592],\n",
       "           [ 0.02913281,  0.70037198, -0.04116736],\n",
       "           [ 2.36989389,  0.25593629,  0.20323929],\n",
       "           ...,\n",
       "           [ 2.34460204,  1.31967496,  1.58689233],\n",
       "           [ 0.10552273,  2.01855264,  0.68046942],\n",
       "           [ 0.30189685,  0.85026914,  0.13743315]],\n",
       "  \n",
       "          [[ 0.57432713,  1.47160032,  1.27445483],\n",
       "           [ 0.57982915,  1.98223884,  2.24452048],\n",
       "           [ 1.28236662,  0.26412386,  2.36374971],\n",
       "           ...,\n",
       "           [ 3.01568568,  1.88988299,  0.4709379 ],\n",
       "           [ 1.54834852, -0.06381629, -0.59294323],\n",
       "           [ 1.42068148,  0.51410032, -1.20015054]],\n",
       "  \n",
       "          ...,\n",
       "  \n",
       "          [[ 1.10875083,  0.90076131,  0.3695531 ],\n",
       "           [ 1.04893119,  0.37563617, -0.41384331],\n",
       "           [-0.23715986,  1.66325986, -0.18149737],\n",
       "           ...,\n",
       "           [-0.45596115,  1.63680247,  1.58728428],\n",
       "           [ 0.41265489,  2.00569524,  1.87344911],\n",
       "           [ 2.82565795,  2.82911932,  2.80087505]],\n",
       "  \n",
       "          [[ 1.65824695,  0.98535273,  1.3218707 ],\n",
       "           [ 1.09254189,  2.14512204,  1.07209544],\n",
       "           [-0.61038937,  2.30985726,  1.8540964 ],\n",
       "           ...,\n",
       "           [ 0.00898088,  1.67042297, -0.10355091],\n",
       "           [ 0.96366714, -0.2565296 ,  2.01455871],\n",
       "           [ 1.9378011 ,  0.98739142,  2.20910789]],\n",
       "  \n",
       "          [[ 2.07319955,  1.038504  ,  1.22512796],\n",
       "           [ 1.16576012,  1.25627144, -0.16089357],\n",
       "           [-1.41238255,  1.30794464,  1.16492654],\n",
       "           ...,\n",
       "           [ 1.52866772,  1.64703168, -0.32477938],\n",
       "           [ 0.79276142,  1.70606535,  0.64081812],\n",
       "           [ 1.52340713,  0.94081551,  2.33880186]]]]),\n",
       "  array([[ 0.61956247, -1.25041145,  1.25250915,  1.40286464]]),\n",
       "  array([[0.45188264, 1.76526391]])],\n",
       " [])"
      ]
     },
     "execution_count": 30,
     "metadata": {},
     "output_type": "execute_result"
    }
   ],
   "source": [
    "dataset.__next__()"
   ]
  },
  {
   "cell_type": "code",
   "execution_count": 31,
   "metadata": {},
   "outputs": [
    {
     "name": "stdout",
     "output_type": "stream",
     "text": [
      "Epoch 1/10\n",
      "20/20 [==============================] - 1s 41ms/step - loss: 1.8227\n",
      "Epoch 2/10\n",
      "20/20 [==============================] - 0s 3ms/step - loss: 0.7559\n",
      "Epoch 3/10\n",
      "20/20 [==============================] - 0s 3ms/step - loss: 0.4088\n",
      "Epoch 4/10\n",
      "20/20 [==============================] - 0s 3ms/step - loss: 0.2393\n",
      "Epoch 5/10\n",
      "20/20 [==============================] - 0s 3ms/step - loss: 0.1963\n",
      "Epoch 6/10\n",
      "20/20 [==============================] - 0s 3ms/step - loss: 0.1665\n",
      "Epoch 7/10\n",
      "20/20 [==============================] - 0s 3ms/step - loss: 0.1741\n",
      "Epoch 8/10\n",
      "20/20 [==============================] - 0s 3ms/step - loss: 0.1559\n",
      "Epoch 9/10\n",
      "20/20 [==============================] - 0s 3ms/step - loss: 0.1224\n",
      "Epoch 10/10\n",
      "20/20 [==============================] - 0s 3ms/step - loss: 0.1629\n"
     ]
    }
   ],
   "source": [
    "train = model.fit_generator(dataset,epochs=10,steps_per_epoch=20)"
   ]
  },
  {
   "cell_type": "code",
   "execution_count": null,
   "metadata": {},
   "outputs": [],
   "source": []
  }
 ],
 "metadata": {
  "kernelspec": {
   "display_name": "Python 3",
   "language": "python",
   "name": "python3"
  },
  "language_info": {
   "codemirror_mode": {
    "name": "ipython",
    "version": 3
   },
   "file_extension": ".py",
   "mimetype": "text/x-python",
   "name": "python",
   "nbconvert_exporter": "python",
   "pygments_lexer": "ipython3",
   "version": "3.7.3"
  }
 },
 "nbformat": 4,
 "nbformat_minor": 2
}
