{
 "cells": [
  {
   "cell_type": "code",
   "execution_count": 1,
   "metadata": {},
   "outputs": [],
   "source": [
    "# 读取自己标注样本Demo\n",
    "\n",
    "import xml.etree.ElementTree as ET"
   ]
  },
  {
   "cell_type": "code",
   "execution_count": 2,
   "metadata": {},
   "outputs": [],
   "source": [
    "def parse_label(xml_file):\n",
    "    # 建立一个实例\n",
    "    tree = ET.parse(xml_file)\n",
    "    \n",
    "    # 建立根路径\n",
    "    root = tree.getroot()\n",
    "    \n",
    "    # 根据你实际xml的层级关系获取你想要的信息\n",
    "    width = root.find('size').find('width').text\n",
    "    height = root.find('size').find('height').text\n",
    "    image_name = root.find('filename').text\n",
    "    \n",
    "    # 数据列表\n",
    "    category = []\n",
    "    xmin = []\n",
    "    ymin = []\n",
    "    xmax = []\n",
    "    ymax = []\n",
    "    \n",
    "    for object in root.findall('object'):\n",
    "        for x in object.iter('name'):\n",
    "            category.append(x.text)\n",
    "            xmax.append(object.find('bndbox').find('xmax').text)\n",
    "            xmin.append(object.find('bndbox').find('xmin').text)\n",
    "            ymax.append(object.find('bndbox').find('ymax').text)\n",
    "            ymin.append(object.find('bndbox').find('ymin').text)\n",
    "            \n",
    "    # 列表组合\n",
    "    ground_truth_box = [list(box) for box in zip(xmin,ymin,xmax,ymax)]\n",
    "    \n",
    "    return image_name,(width, height), category, ground_truth_box\n",
    "     "
   ]
  },
  {
   "cell_type": "code",
   "execution_count": 6,
   "metadata": {},
   "outputs": [
    {
     "name": "stdout",
     "output_type": "stream",
     "text": [
      "C:\\Users\\Summerki\\Desktop\\FasterRCNN\\TestLabelImg\\Annotation\\test.xml\n",
      "===分隔符===\n",
      "('test.jpg', ('128', '128'), ['cat', 'dog'], [['93', '55', '127', '127'], ['1', '5', '93', '128']]) \n",
      "\n"
     ]
    }
   ],
   "source": [
    "import glob\n",
    "for name in glob.glob(r'C:\\Users\\Summerki\\Desktop\\FasterRCNN\\TestLabelImg\\Annotation\\*'):\n",
    "    print(name)\n",
    "    print('===分隔符===')\n",
    "    print(parse_label(name),'\\n')\n",
    "\n",
    "# 后期可以读取之后将数据整合进csv文件中（pandas）"
   ]
  },
  {
   "cell_type": "code",
   "execution_count": null,
   "metadata": {},
   "outputs": [],
   "source": []
  }
 ],
 "metadata": {
  "kernelspec": {
   "display_name": "Python 3",
   "language": "python",
   "name": "python3"
  },
  "language_info": {
   "codemirror_mode": {
    "name": "ipython",
    "version": 3
   },
   "file_extension": ".py",
   "mimetype": "text/x-python",
   "name": "python",
   "nbconvert_exporter": "python",
   "pygments_lexer": "ipython3",
   "version": "3.7.3"
  }
 },
 "nbformat": 4,
 "nbformat_minor": 2
}
