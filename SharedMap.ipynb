{
 "cells": [
  {
   "cell_type": "code",
   "execution_count": 1,
   "metadata": {},
   "outputs": [
    {
     "name": "stderr",
     "output_type": "stream",
     "text": [
      "Using TensorFlow backend.\n"
     ]
    }
   ],
   "source": [
    "import keras.layers as KL\n",
    "from keras.models import Model\n",
    "import keras.backend as K\n",
    "import tensorflow as tf\n",
    "from keras.utils import np_utils\n",
    "from keras.utils.vis_utils import plot_model\n",
    "import numpy as np\n",
    "import os\n",
    "%matplotlib inline"
   ]
  },
  {
   "cell_type": "code",
   "execution_count": 2,
   "metadata": {},
   "outputs": [],
   "source": [
    "def building_block(filters,block):\n",
    "    \n",
    "#     import random\n",
    "#     bn = random.randint(100,300,)\n",
    "    #判断block1和2\n",
    "    if block != 0: #如果不等于0 那么使用 stride=1\n",
    "        stride = 1\n",
    "    else:         #如果等于0 采用stride 2 两倍下采样 也就是 如果是 building1 使用2倍下采样\n",
    "        stride = 2\n",
    "\n",
    "    def f(x):\n",
    "        #主通路结构\n",
    "        y = KL.Conv2D(filters=filters,kernel_size=(1,1),strides=stride)(x)\n",
    "        y = KL.BatchNormalization(axis=3)(y)\n",
    "        y = KL.Activation('relu')(y)\n",
    "\n",
    "        y = KL.Conv2D(filters=filters, kernel_size=(3, 3), padding='same')(y) #注意这里没有stride使用padding same就是保证size相同\n",
    "        y = KL.BatchNormalization(axis=3)(y)\n",
    "        y = KL.Activation('relu')(y)\n",
    "\n",
    "        #主通路输出\n",
    "        y = KL.Conv2D(filters=4*filters,kernel_size=(1,1))(y)\n",
    "        y = KL.BatchNormalization(axis=3)(y)\n",
    "\n",
    "        #判断是哪个block 设定不同的 shortcut支路参数\n",
    "        if block == 0 : #如果是0 那么就是block1的通路\n",
    "            shortcut = KL.Conv2D(filters=4*filters,kernel_size=(1,1),strides=stride)(x)\n",
    "            shortcut = KL.BatchNormalization(axis=3)(shortcut)\n",
    "        else:\n",
    "            #如果不等于0 那就是block2  那么就直接接input的tensor\n",
    "            shortcut = x\n",
    "\n",
    "        #主通路和shortcut 相加\n",
    "        y = KL.Add()([y,shortcut]) #y主 shortcut支路 直接通过add层相加\n",
    "        import random\n",
    "        y = KL.Activation('relu',name='last'+str(random.randint(100,300)))(y)\n",
    "        return y\n",
    "    return f"
   ]
  },
  {
   "cell_type": "code",
   "execution_count": 3,
   "metadata": {},
   "outputs": [],
   "source": [
    "#resnet 主输入函数\n",
    "def ResNet_Extractor(inputs):\n",
    "    x = KL.Conv2D(filters=64,kernel_size=(3,3),padding='same')(inputs)\n",
    "    x = KL.BatchNormalization(axis=3)(x)\n",
    "    x = KL.Activation('relu')(x)\n",
    "\n",
    "    #控制调用网络结构feature map 特征图\n",
    "    #每个stage要有不同的 b12的数量 ，还有 第一个Block1 输入维度后边要迭代（stage）\n",
    "    filters = 64\n",
    "    block = [2,2]\n",
    "    for i,block_num in enumerate(block):\n",
    "        for block_id in range(block_num):\n",
    "            x = building_block(filters=filters,block=block_id)(x)\n",
    "        filters *= 2 #每个stage double filter个数\n",
    "\n",
    "    return x"
   ]
  },
  {
   "cell_type": "code",
   "execution_count": 4,
   "metadata": {},
   "outputs": [],
   "source": [
    "# share map 和 anchor 的提取"
   ]
  },
  {
   "cell_type": "code",
   "execution_count": 7,
   "metadata": {},
   "outputs": [],
   "source": [
    "def RpnNet(featuremap, k=9):\n",
    "    # 共享\n",
    "    shareMap = KL.Conv2D(filters=256,kernel_size=(3,3),padding='same',name='sharemap')(featuremap)\n",
    "    shareMap = KL.Activation('linear')(shareMap)\n",
    "    # 计算rpn分类前后景\n",
    "    rpn_classification = KL.Conv2D(filters=2*k,kernel_size=(1,1))(shareMap)\n",
    "    rpn_classification = KL.Lambda(lambda x:tf.reshape(x,[tf.shape(x)[0],-1,2]))(rpn_classification)\n",
    "    rpn_classification = KL.Activation('linear',name='rpn_classification')(rpn_classification)\n",
    "    \n",
    "    rpn_probability = KL.Activation('softmax',name='rpn_probability')(rpn_classification)\n",
    "    # 计算回归修正\n",
    "    rpn_position = KL.Conv2D(filters=4*k,kernel_size=(1,1))(shareMap)\n",
    "    rpn_position = KL.Activation('linear')(rpn_position)\n",
    "    rpn_BoundingBox = KL.Lambda(lambda x:tf.reshape(x,[tf.shape(x)[0],-1,4]),name='rpn_POS')(rpn_position)\n",
    "    \n",
    "    return rpn_classification,rpn_probability,rpn_BoundingBox\n",
    "    "
   ]
  },
  {
   "cell_type": "code",
   "execution_count": 9,
   "metadata": {},
   "outputs": [],
   "source": [
    "x = KL.Input([100,100,3])\n",
    "featureMap = ResNet_Extractor(x)\n",
    "rpn_classification,rpn_probability,rpn_BoundingBox = RpnNet(featureMap,k=9)\n",
    "model = Model(inputs=[x],outputs=[rpn_classification,rpn_probability,rpn_BoundingBox])\n",
    "plot_model(model=model,to_file='SharedMap.png',show_shapes=True)"
   ]
  },
  {
   "cell_type": "code",
   "execution_count": null,
   "metadata": {},
   "outputs": [],
   "source": []
  }
 ],
 "metadata": {
  "kernelspec": {
   "display_name": "Python 3",
   "language": "python",
   "name": "python3"
  },
  "language_info": {
   "codemirror_mode": {
    "name": "ipython",
    "version": 3
   },
   "file_extension": ".py",
   "mimetype": "text/x-python",
   "name": "python",
   "nbconvert_exporter": "python",
   "pygments_lexer": "ipython3",
   "version": "3.7.3"
  }
 },
 "nbformat": 4,
 "nbformat_minor": 2
}
